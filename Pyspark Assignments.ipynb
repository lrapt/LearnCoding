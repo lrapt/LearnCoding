{
 "cells": [
  {
   "cell_type": "code",
   "execution_count": 1,
   "id": "a5d7c54d",
   "metadata": {},
   "outputs": [],
   "source": [
    "import findspark\n",
    "findspark.init()"
   ]
  },
  {
   "cell_type": "code",
   "execution_count": 5,
   "id": "9c10dc73",
   "metadata": {},
   "outputs": [],
   "source": [
    "import pyspark\n",
    "\n",
    "from pyspark.sql import SparkSession\n",
    "\n",
    "spark = SparkSession.builder.getOrCreate()\n",
    "\n",
    "df = spark.read.csv(r\"C:\\Users\\piyush.choubey\\Downloads\\assessment-dataset\\assessment-dataset\\spark-assessment\\loanDetails.csv\")"
   ]
  },
  {
   "cell_type": "code",
   "execution_count": 7,
   "id": "f20987c1",
   "metadata": {},
   "outputs": [
    {
     "name": "stdout",
     "output_type": "stream",
     "text": [
      "+--------------------+--------------------+-----------+-------------------+----------+------------+--------------------+--------------+-------------+------------------+------------+--------------------+--------------------+--------------------+--------------------+--------------------+-------------------+------------+---------+\n",
      "|                 _c0|                 _c1|        _c2|                _c3|       _c4|         _c5|                 _c6|           _c7|          _c8|               _c9|        _c10|                _c11|                _c12|                _c13|                _c14|                _c15|               _c16|        _c17|     _c18|\n",
      "+--------------------+--------------------+-----------+-------------------+----------+------------+--------------------+--------------+-------------+------------------+------------+--------------------+--------------------+--------------------+--------------------+--------------------+-------------------+------------+---------+\n",
      "|             loan_id|         customer_id|loan_status|current_loan_amount|      term|credit_score|years_in_current ...|home_ownership|annual_income|           purpose|monthly_debt|years_of_credit_h...|months_since last...|number_of_open_ac...|number_of_credit_...|current_credit ba...|maximum_open_credit|bankruptcies|tax_liens|\n",
      "|6cf51492-02a2-423...|7c202b37-2add-44e...|Charged Off|              12232|Short Term|        7280|            < 1 year|          Rent|        46643|Debt Consolidation|      777.39|                  18|                  10|                  12|                   0|                6762|               7946|           0|        0|\n",
      "|552e7ade-4292-435...|e7217b0a-07ac-47d...|Charged Off|              25014| Long Term|        7330|           10+ years| Home Mortgage|        81099|Debt Consolidation|      892.09|                26.7|                  NA|                  14|                   0|               35706|              77961|           0|        0|\n",
      "|9b5e32b3-8d76-480...|0a62fc41-16c8-40b...|Charged Off|              16117|Short Term|        7240|             9 years| Home Mortgage|        60438| Home Improvements|     1244.02|                16.7|                  32|                  11|                   1|               11275|              14815|           1|        0|\n",
      "|5419b7c7-ac11-4be...|30f36c59-5182-448...|Charged Off|              11716|Short Term|        7400|             3 years|          Rent|        34171|Debt Consolidation|      990.94|                  10|                  NA|                  21|                   0|                7009|              43533|           0|        0|\n",
      "|1450910f-9495-4fc...|70c26012-bba5-42c...|Charged Off|               9789| Long Term|        6860|           10+ years| Home Mortgage|        47003| Home Improvements|      503.71|                16.7|                  25|                  13|                   1|               16913|              19553|           1|        0|\n",
      "|7e9f6759-6a13-48e...|05301ee5-29ec-48b...|Charged Off|              11911|Short Term|        7420|             2 years| Home Mortgage|        70475|             other|      886.81|                17.7|                  NA|                  13|                   0|               28212|              59897|           0|        0|\n",
      "|c2b0aa3e-555b-441...|db3e74ec-2123-460...|Charged Off|              28988|Short Term|        7420|             3 years| Home Mortgage|        58074|Debt Consolidation|      871.11|                22.8|                  NA|                   9|                   0|               14423|              54018|           0|        0|\n",
      "|233e0119-6dfe-47c...|def66e46-951e-4bf...|Charged Off|              17705| Long Term|        6630|             3 years|      Own Home|        49180|Debt Consolidation|      274.59|                30.2|                  NA|                  10|                   1|                4252|              25012|           1|        0|\n",
      "|fc9d109b-15c2-4fe...|f54c53e4-acd7-4e2...|Charged Off|              16812|Short Term|        7360|             7 years|          Rent|        50945|Debt Consolidation|      590.12|                14.6|                  NA|                   9|                   0|               12903|              15379|           0|        0|\n",
      "|35ee60ed-df2d-4d3...|93cbb4b9-4e88-4b9...|Charged Off|               9796| Long Term|        6720|            < 1 year|          Rent|        58776|Debt Consolidation|      666.13|                 9.4|                  17|                  12|                   0|                4939|              15198|           0|        0|\n",
      "|9634dd33-b16d-49f...|0d82eca5-ee60-4eb...|Charged Off|              19838| Long Term|        7010|             6 years| Home Mortgage|        79352|Debt Consolidation|    $1051.41|                14.3|                   6|                  13|                   0|               15780|              22511|           0|        0|\n",
      "|7d8dddd0-3c5a-4e3...|00647781-a770-4ba...|Charged Off|              18392| Long Term|        7310|              1 year|          Rent|        44959|Debt Consolidation|      569.48|                15.4|                  NA|                   7|                   0|                7085|              11750|           0|        0|\n",
      "|0779025a-3e68-4c5...|356e7d80-a879-4ee...|Charged Off|              29496| Long Term|        6850|             3 years|          Rent|        76690|Debt Consolidation|     1329.29|                32.2|                  NA|                  10|                   0|               27643|              44801|           0|        0|\n",
      "|30931f26-c9a5-43c...|84f232ce-7738-4b8...|Charged Off|              34276| Long Term|        6280|           10+ years| Home Mortgage|       141019|             other|     2632.36|                19.9|                  14|                  19|                   0|               20223|              31747|           0|        0|\n",
      "|18e58e4b-90fc-424...|a415393e-38d1-462...|Charged Off|              18230|Short Term|        7470|             5 years|          Rent|       151920|     Business Loan|      778.59|                26.4|                  NA|                   9|                   0|                5663|              29039|           0|        0|\n",
      "|cead3a3f-1294-455...|aa26c11c-174a-4f0...|Charged Off|              19660| Long Term|        7310|            < 1 year|          Rent|        58980|Debt Consolidation|      973.17|                15.6|                  NA|                   5|                   0|               23917|              33829|           0|        0|\n",
      "|18cf82cd-f0e6-452...|a02200bf-f505-422...|Charged Off|              24341| Long Term|        7200|             3 years|          Rent|        99392|Debt Consolidation|     2360.55|                17.1|                  NA|                   8|                   0|               16604|              21288|           0|        0|\n",
      "|1e3cabdc-ce1c-444...|22e2f182-2ef4-4ec...|Charged Off|              21350| Long Term|        7320|           10+ years|          Rent|        58626|    small_business|      723.05|                  15|                  NA|                   4|                   0|                4085|               4886|           0|        0|\n",
      "|286127c0-04c4-43f...|a6ce9c02-ea44-4e7...|Charged Off|               8792|Short Term|        7330|           10+ years|      Own Home|        19982| Home Improvements|       56.95|                21.1|                  NA|                   7|                   0|                 650|              40651|           0|        0|\n",
      "+--------------------+--------------------+-----------+-------------------+----------+------------+--------------------+--------------+-------------+------------------+------------+--------------------+--------------------+--------------------+--------------------+--------------------+-------------------+------------+---------+\n",
      "only showing top 20 rows\n",
      "\n"
     ]
    }
   ],
   "source": [
    "df.show()"
   ]
  },
  {
   "cell_type": "code",
   "execution_count": null,
   "id": "73368d11",
   "metadata": {},
   "outputs": [],
   "source": []
  }
 ],
 "metadata": {
  "kernelspec": {
   "display_name": "Python 3",
   "language": "python",
   "name": "python3"
  },
  "language_info": {
   "codemirror_mode": {
    "name": "ipython",
    "version": 3
   },
   "file_extension": ".py",
   "mimetype": "text/x-python",
   "name": "python",
   "nbconvert_exporter": "python",
   "pygments_lexer": "ipython3",
   "version": "3.8.8"
  }
 },
 "nbformat": 4,
 "nbformat_minor": 5
}
